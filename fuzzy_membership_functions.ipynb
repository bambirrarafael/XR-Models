{
 "cells": [
  {
   "cell_type": "code",
   "execution_count": null,
   "metadata": {
    "collapsed": true
   },
   "outputs": [],
   "source": [
    "import numpy as np\n",
    "import matplotlib.pyplot as plt"
   ]
  },
  {
   "cell_type": "code",
   "execution_count": null,
   "outputs": [],
   "source": [
    "#\n",
    "# Triangular membership function - Around 5\n",
    "x = np.linspace(0, 10)\n",
    "A = []\n",
    "#\n",
    "# Inputs\n",
    "a = 3\n",
    "m = 5\n",
    "b = 7\n",
    "#\n",
    "# Logic\n",
    "for i in range(len(x)):\n",
    "    if x[i] <= a:\n",
    "        A.append(0)\n",
    "    elif a <= x[i] <= m:\n",
    "        A.append((x[i] - a) / (m - a))\n",
    "    elif m <= x[i] <= b:\n",
    "        A.append((b - x[i]) / (b - m))\n",
    "    elif x[i] >= b:\n",
    "        A.append(0)\n",
    "#\n",
    "# Plot membership function\n",
    "plt.plot(x, A)\n",
    "plt.title('Triangular membership function - Around 5')\n",
    "plt.show()"
   ],
   "metadata": {
    "collapsed": false,
    "pycharm": {
     "name": "#%%\n"
    }
   }
  },
  {
   "cell_type": "code",
   "execution_count": null,
   "outputs": [],
   "source": [
    "#\n",
    "# ----------------------------------------------------------------------------------------------------------------------\n",
    "#\n",
    "# Trapezoidal membership function - Around 5\n",
    "x = np.linspace(0, 10)\n",
    "A = []\n",
    "B = []\n",
    "#\n",
    "# Inputs\n",
    "a = 3\n",
    "m = 4\n",
    "n = 6\n",
    "b = 7\n",
    "#\n",
    "# Logic\n",
    "for i in range(len(x)):\n",
    "    if x[i] < a:\n",
    "        A.append(0)\n",
    "    elif a <= x[i] <= m:\n",
    "        A.append((x[i] - a) / (m - a))\n",
    "    elif m <= x[i] <= n:\n",
    "        A.append(1)\n",
    "    elif n <= x[i] <= b:\n",
    "        A.append((b - x[i]) / (b - n))\n",
    "    elif x[i] > b:\n",
    "        A.append(0)\n",
    "#\n",
    "# Another logic that also works\n",
    "for i in range(len(x)):\n",
    "    B.append(np.max([np.min([(x[i] - a) / (m - a), 1, (b - x[i]) / (b - n)]), 0]))\n",
    "#\n",
    "# Plot membership function\n",
    "plt.plot(x, A)\n",
    "plt.plot(x, B, '.')\n",
    "plt.title('Trapezoidal membership function - Around 5')\n",
    "plt.show()"
   ],
   "metadata": {
    "collapsed": false,
    "pycharm": {
     "name": "#%%\n"
    }
   }
  },
  {
   "cell_type": "code",
   "execution_count": null,
   "outputs": [],
   "source": [
    "#\n",
    "# ----------------------------------------------------------------------------------------------------------------------\n",
    "#\n",
    "# G membership function - Around 5\n",
    "x = np.linspace(0, 10)\n",
    "A = []\n",
    "B = []\n",
    "#\n",
    "# Inputs\n",
    "a = 5\n",
    "k = 0.5\n",
    "#\n",
    "# Logic\n",
    "for i in range(len(x)):\n",
    "    if x[i] <= a:\n",
    "        A.append(0)\n",
    "    elif x[i] >= a:\n",
    "        A.append(1 - np.exp(-k*(x[i] - a)**2))\n",
    "#\n",
    "# Another logic that also works\n",
    "for i in range(len(x)):\n",
    "    if x[i] <= a:\n",
    "        B.append(0)\n",
    "    elif x[i] >= a:\n",
    "        B.append((k*(x[i] - a)**2)/(1 + k*(x[i] - a)**2))\n",
    "#\n",
    "# Plot membership function\n",
    "plt.plot(x, A)\n",
    "plt.plot(x, B, '.')\n",
    "plt.title('G membership function - Around 5')\n",
    "plt.show()"
   ],
   "metadata": {
    "collapsed": false,
    "pycharm": {
     "name": "#%%\n"
    }
   }
  },
  {
   "cell_type": "code",
   "execution_count": null,
   "outputs": [],
   "source": [
    "#\n",
    "# ----------------------------------------------------------------------------------------------------------------------\n",
    "#\n",
    "# S membership function - Around 5\n",
    "x = np.linspace(0, 10)\n",
    "A = []\n",
    "#\n",
    "# Inputs\n",
    "a = 3\n",
    "b = 7\n",
    "m = (a + b)/2\n",
    "#\n",
    "# Logic\n",
    "for i in range(len(x)):\n",
    "    if x[i] <= a:\n",
    "        A.append(0)\n",
    "    elif a <= x[i] <= m:\n",
    "        A.append(2*((x[i] - a)/(b - a))**2)\n",
    "    elif m <= x[i] <= b:\n",
    "        A.append(1 - 2*((x[i] - b)/(b - a))**2)\n",
    "    elif x[i] >= b:\n",
    "        A.append(0)\n",
    "#\n",
    "# Plot membership function\n",
    "plt.plot(x, A)\n",
    "plt.title('S membership function - Around 5')\n",
    "plt.show()"
   ],
   "metadata": {
    "collapsed": false,
    "pycharm": {
     "name": "#%%\n"
    }
   }
  },
  {
   "cell_type": "code",
   "execution_count": null,
   "outputs": [],
   "source": [
    "#\n",
    "# ----------------------------------------------------------------------------------------------------------------------\n",
    "#\n",
    "# Gaussian membership function - Around 5\n",
    "x = np.linspace(0, 10)\n",
    "A = []\n",
    "#\n",
    "# Inputs\n",
    "m = 5\n",
    "s = 2\n",
    "#\n",
    "# Logic\n",
    "for i in range(len(x)):\n",
    "    A.append(np.exp(-(x[i] - m)**2 / (s)**2))\n",
    "#\n",
    "# Plot membership function\n",
    "plt.plot(x, A)\n",
    "plt.title('Gaussian membership function - Around 5')\n",
    "plt.show()"
   ],
   "metadata": {
    "collapsed": false,
    "pycharm": {
     "name": "#%%\n"
    }
   }
  },
  {
   "cell_type": "code",
   "execution_count": null,
   "outputs": [],
   "source": [
    "#\n",
    "# ----------------------------------------------------------------------------------------------------------------------\n",
    "#\n",
    "# Exponential like membership function - Around 5\n",
    "x = np.linspace(0, 10)\n",
    "A = []\n",
    "#\n",
    "# Inputs\n",
    "m = 5\n",
    "k = 0.5\n",
    "#\n",
    "# Logic\n",
    "for i in range(len(x)):\n",
    "    A.append(1/(1 + k*(x[i] - m)**2))\n",
    "#\n",
    "# Plot membership function\n",
    "plt.plot(x, A)\n",
    "plt.title('Exponential like membership function - Around 5')\n",
    "plt.show()\n",
    "\n"
   ],
   "metadata": {
    "collapsed": false,
    "pycharm": {
     "name": "#%%\n"
    }
   }
  }
 ],
 "metadata": {
  "kernelspec": {
   "display_name": "Python 3",
   "language": "python",
   "name": "python3"
  },
  "language_info": {
   "codemirror_mode": {
    "name": "ipython",
    "version": 2
   },
   "file_extension": ".py",
   "mimetype": "text/x-python",
   "name": "python",
   "nbconvert_exporter": "python",
   "pygments_lexer": "ipython2",
   "version": "2.7.6"
  },
  "pycharm": {
   "stem_cell": {
    "cell_type": "raw",
    "source": [],
    "metadata": {
     "collapsed": false
    }
   }
  }
 },
 "nbformat": 4,
 "nbformat_minor": 0
}